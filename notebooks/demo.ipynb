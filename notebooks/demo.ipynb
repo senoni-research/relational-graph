{
 "cells": [
  {
   "cell_type": "raw",
   "metadata": {
    "vscode": {
     "languageId": "raw"
    }
   },
   "source": [
    "# Graph QA Demo (MVP)\n",
    "\n",
    "This notebook demonstrates relationship QA and subgraph prediction using the MVP.\n"
   ]
  },
  {
   "cell_type": "code",
   "execution_count": 1,
   "id": "bfe72cce",
   "metadata": {},
   "outputs": [
    {
     "data": {
      "text/plain": [
       "[PathResult(path=['A', 'B', 'C'], hops=2, edges=[('A', 'B'), ('B', 'C')]),\n",
       " PathResult(path=['A', 'X', 'C'], hops=2, edges=[('A', 'X'), ('X', 'C')])]"
      ]
     },
     "execution_count": 1,
     "metadata": {},
     "output_type": "execute_result"
    }
   ],
   "source": [
    "import networkx as nx\n",
    "from graph_qa.io.loader import load_graph\n",
    "from graph_qa.llm.tools import find_paths, predict_subgraph\n",
    "from graph_qa.llm.router import Router\n",
    "\n",
    "G = load_graph('../graph_qa/data/demo_graph.jsonl')\n",
    "\n",
    "paths = find_paths(G, 'A', 'C', max_len=4, k=2)\n",
    "paths\n"
   ]
  },
  {
   "cell_type": "code",
   "execution_count": 2,
   "id": "a480508c",
   "metadata": {},
   "outputs": [
    {
     "data": {
      "text/plain": [
       "{'anchors': ['A', 'C'],\n",
       " 'nodes': [{'id': 'A', 'type': 'person', 'time': 10},\n",
       "  {'id': 'X', 'type': 'org', 'time': 3},\n",
       "  {'id': 'B', 'type': 'person', 'time': 11},\n",
       "  {'id': 'C', 'type': 'person', 'time': 12}],\n",
       " 'edges': [{'u': 'A', 'v': 'X', 'p': 0.02231343869903223},\n",
       "  {'u': 'A', 'v': 'B', 'p': 0.48001065984441826},\n",
       "  {'u': 'X', 'v': 'C', 'p': 0.011206406321842876},\n",
       "  {'u': 'B', 'v': 'C', 'p': 0.5049998333399998}],\n",
       " 'method': 'temporal_egonet + stub_relgt + ksp/steiner'}"
      ]
     },
     "execution_count": 2,
     "metadata": {},
     "output_type": "execute_result"
    }
   ],
   "source": [
    "res = predict_subgraph(G, anchors=['A','C'], hops=2, K=50, anchor_time=12)\n",
    "res\n"
   ]
  }
 ],
 "metadata": {
  "kernelspec": {
   "display_name": "Python 3",
   "language": "python",
   "name": "python3"
  },
  "language_info": {
   "codemirror_mode": {
    "name": "ipython",
    "version": 3
   },
   "file_extension": ".py",
   "mimetype": "text/x-python",
   "name": "python",
   "nbconvert_exporter": "python",
   "pygments_lexer": "ipython3",
   "version": "3.11.8"
  }
 },
 "nbformat": 4,
 "nbformat_minor": 5
}
