{
 "cells": [
  {
   "cell_type": "raw",
   "metadata": {
    "vscode": {
     "languageId": "raw"
    }
   },
   "source": [
    "# Graph QA Demo (MVP)\n",
    "\n",
    "This notebook demonstrates relationship QA and subgraph prediction using the MVP.\n"
   ]
  },
  {
   "cell_type": "code",
   "execution_count": 1,
   "id": "bfe72cce",
   "metadata": {},
   "outputs": [
    {
     "data": {
      "text/plain": [
       "[PathResult(path=['A', 'B', 'C'], hops=2, edges=[('A', 'B'), ('B', 'C')]),\n",
       " PathResult(path=['A', 'X', 'C'], hops=2, edges=[('A', 'X'), ('X', 'C')])]"
      ]
     },
     "execution_count": 1,
     "metadata": {},
     "output_type": "execute_result"
    }
   ],
   "source": [
    "import networkx as nx\n",
    "from graph_qa.io.loader import load_graph\n",
    "from graph_qa.llm.tools import find_paths, predict_subgraph\n",
    "from graph_qa.llm.router import Router\n",
    "\n",
    "G = load_graph('../graph_qa/data/demo_graph.jsonl')\n",
    "\n",
    "paths = find_paths(G, 'A', 'C', max_len=4, k=2)\n",
    "paths\n"
   ]
  },
  {
   "cell_type": "code",
   "execution_count": 2,
   "id": "9606c234",
   "metadata": {},
   "outputs": [
    {
     "data": {
      "image/png": "[encoded data removed]",
      "text/plain": [
       "<Figure size 600x400 with 1 Axes>"
      ]
     },
     "metadata": {},
     "output_type": "display_data"
    }
   ],
   "source": [
    "import matplotlib.pyplot as plt\n",
    "\n",
    "plt.figure(figsize=(6, 4))\n",
    "pos = nx.spring_layout(G, seed=42)\n",
    "node_colors = [\n",
    "    \"tab:blue\" if G.nodes[n].get(\"type\") == \"person\" else \"tab:orange\"\n",
    "    for n in G.nodes\n",
    "]\n",
    "nx.draw_networkx(\n",
    "    G,\n",
    "    pos=pos,\n",
    "    with_labels=True,\n",
    "    node_color=node_colors,\n",
    "    edge_color=\"gray\",\n",
    "    font_size=10,\n",
    "    node_size=800,\n",
    ")\n",
    "edge_labels = {(u, v): G.edges[u, v].get(\"rel\", \"\") for u, v in G.edges}\n",
    "nx.draw_networkx_edge_labels(G, pos, edge_labels=edge_labels, font_color=\"green\", font_size=9)\n",
    "\n",
    "import matplotlib.patches as mpatches\n",
    "legend_handles = [\n",
    "    mpatches.Patch(color=\"tab:blue\", label=\"person\"),\n",
    "    mpatches.Patch(color=\"tab:orange\", label=\"org\"),\n",
    "]\n",
    "plt.legend(handles=legend_handles, loc=\"best\")\n",
    "plt.axis(\"off\")\n",
    "plt.show()\n"
   ]
  },
  {
   "cell_type": "code",
   "execution_count": 3,
   "id": "a480508c",
   "metadata": {},
   "outputs": [
    {
     "data": {
      "text/plain": [
       "{'anchors': ['A', 'C'],\n",
       " 'nodes': [{'id': 'X', 'type': 'org', 'time': 3},\n",
       "  {'id': 'A', 'type': 'person', 'time': 10},\n",
       "  {'id': 'C', 'type': 'person', 'time': 12}],\n",
       " 'edges': [{'u': 'X', 'v': 'C', 'p': 0.010353737531091752},\n",
       "  {'u': 'A', 'v': 'X', 'p': 0.02231343869903223}],\n",
       " 'method': 'temporal_egonet + stub_relgt + ksp/steiner'}"
      ]
     },
     "execution_count": 3,
     "metadata": {},
     "output_type": "execute_result"
    }
   ],
   "source": [
    "res = predict_subgraph(G, anchors=['A','C'], hops=2, K=50, anchor_time=12)\n",
    "res\n"
   ]
  },
  {
   "cell_type": "code",
   "execution_count": 4,
   "id": "baa26edf",
   "metadata": {},
   "outputs": [
    {
     "data": {
      "text/plain": [
       "{'result': {'paths': [{'path': ['A', 'B', 'C'],\n",
       "    'hops': 2,\n",
       "    'edges': [('A', 'B'), ('B', 'C')]},\n",
       "   {'path': ['A', 'X', 'C'], 'hops': 2, 'edges': [('A', 'X'), ('X', 'C')]}]},\n",
       " 'method': ['find_paths'],\n",
       " 'evidence': {'k': 3, 'max_len': 6},\n",
       " 'caveats': 'Path-based association only; not causal.'}"
      ]
     },
     "execution_count": 4,
     "metadata": {},
     "output_type": "execute_result"
    }
   ],
   "source": [
    "from graph_qa.llm.router import Router\n",
    "\n",
    "ans = Router().ask(G, \"What is the relationship between A and C?\")\n",
    "ans\n"
   ]
  }
 ],
 "metadata": {
  "kernelspec": {
   "display_name": ".venv",
   "language": "python",
   "name": "python3"
  },
  "language_info": {
   "codemirror_mode": {
    "name": "ipython",
    "version": 3
   },
   "file_extension": ".py",
   "mimetype": "text/x-python",
   "name": "python",
   "nbconvert_exporter": "python",
   "pygments_lexer": "ipython3",
   "version": "3.11.8"
  }
 },
 "nbformat": 4,
 "nbformat_minor": 5
}
