{
 "cells": [
  {
   "cell_type": "markdown",
   "metadata": {},
   "source": [
    "# VN2 Graph Ordering Demo\n",
    "\n",
    "This notebook demonstrates the complete VN2 pipeline:\n",
    "1. Load the temporal graph\n",
    "2. Load a trained model and calibrator\n",
    "3. Score store-product pairs for the horizon\n",
    "4. Generate orders using different policies (HB baseline, two-sided gated)\n",
    "5. Compare expected costs and visualize\n",
    "\n",
    "**Prerequisites**: Run the full pipeline (graph generation, training, calibration) as described in `docs/VN2_TRAINING_SUMMARY.md`."
   ]
  },
  {
   "cell_type": "code",
   "execution_count": 1,
   "metadata": {},
   "outputs": [],
   "source": [
    "import pandas as pd\n",
    "import numpy as np\n",
    "import networkx as nx\n",
    "import torch\n",
    "import pickle\n",
    "import math\n",
    "from datetime import date, timedelta\n",
    "from pathlib import Path\n",
    "\n",
    "# Add parent to path for imports\n",
    "import sys\n",
    "sys.path.insert(0, str(Path.cwd().parent))\n",
    "\n",
    "from graph_qa.io.loader import load_graph\n",
    "from graph_qa.train.trainer import sample_subgraph_for_edge\n",
    "from graph_qa.train.model_v2 import EnhancedEdgeScorer"
   ]
  },
  {
   "cell_type": "markdown",
   "metadata": {},
   "source": [
    "## 1. Load Graph and Model"
   ]
  },
  {
   "cell_type": "code",
   "execution_count": 2,
   "metadata": {},
   "outputs": [
    {
     "name": "stdout",
     "output_type": "stream",
     "text": [
      "Loading graph...\n",
      "Graph: 364 nodes, 167651 edges\n",
      "Example stores: ['store:0', 'store:1', 'store:2', 'store:3', 'store:4']\n",
      "Example products: ['product:0', 'product:1', 'product:2', 'product:3', 'product:4']\n"
     ]
    }
   ],
   "source": [
    "# Paths (adjust if needed)\n",
    "GRAPH_PATH = \"../artifacts/vn2_graph_full_temporal_v2.jsonl\"\n",
    "CKPT_PATH = \"../artifacts/checkpoints/v2_scorer_idemb.pt\"\n",
    "CALIBRATOR_PATH = \"../artifacts/checkpoints/calibrators/iso_val_2024-03-15_idemb.pkl\"\n",
    "\n",
    "print(\"Loading graph...\")\n",
    "G = load_graph(GRAPH_PATH, multi=True)\n",
    "print(f\"Graph: {G.number_of_nodes()} nodes, {G.number_of_edges()} edges\")\n",
    "\n",
    "# Show a few nodes by type\n",
    "stores = [n for n, a in G.nodes(data=True) if str(a.get('type'))=='store'][:5]\n",
    "products = [n for n, a in G.nodes(data=True) if str(a.get('type'))=='product'][:5]\n",
    "print(f\"Example stores: {stores}\")\n",
    "print(f\"Example products: {products}\")"
   ]
  },
  {
   "cell_type": "code",
   "execution_count": 3,
   "metadata": {},
   "outputs": [
    {
     "name": "stdout",
     "output_type": "stream",
     "text": [
      "Loading model checkpoint...\n",
      "Model loaded: 3 layers, hidden_dim=64\n",
      "Calibrator: isotonic on prob\n"
     ]
    }
   ],
   "source": [
    "# Load model\n",
    "print(\"Loading model checkpoint...\")\n",
    "ckpt = torch.load(CKPT_PATH, map_location=\"cpu\")\n",
    "\n",
    "store_ids = [str(n).replace(\"store:\", \"\") for n, a in G.nodes(data=True) if str(a.get(\"type\")) == \"store\"]\n",
    "product_ids = [str(n).replace(\"product:\", \"\") for n, a in G.nodes(data=True) if str(a.get(\"type\")) == \"product\"]\n",
    "\n",
    "model = EnhancedEdgeScorer(\n",
    "    node_types=ckpt.get(\"node_types\"),\n",
    "    categorical_attrs=ckpt.get(\"categorical_attrs\", {}),\n",
    "    hidden_dim=ckpt.get(\"hidden_dim\", 64),\n",
    "    num_layers=ckpt.get(\"num_layers\", 3),\n",
    "    recency_feature=ckpt.get(\"recency_feature\", False),\n",
    "    recency_norm=ckpt.get(\"recency_norm\", 52.0),\n",
    "    rel_aware_attn=ckpt.get(\"rel_aware_attn\", False),\n",
    "    event_buckets=ckpt.get(\"event_buckets\", None),\n",
    "    store_ids=store_ids,\n",
    "    product_ids=product_ids,\n",
    "    id_emb_dim=ckpt.get(\"id_emb_dim\", 16),\n",
    ")\n",
    "model.load_state_dict(ckpt[\"model_state\"], strict=False)\n",
    "model.eval()\n",
    "print(f\"Model loaded: {ckpt.get('num_layers', 3)} layers, hidden_dim={ckpt.get('hidden_dim', 64)}\")\n",
    "\n",
    "# Load calibrator\n",
    "with open(CALIBRATOR_PATH, \"rb\") as f:\n",
    "    calibrator = pickle.load(f)\n",
    "print(f\"Calibrator: {calibrator.get('method', 'isotonic')} on {calibrator.get('input', 'prob')}\")"
   ]
  },
  {
   "cell_type": "markdown",
   "metadata": {},
   "source": [
    "## 2. Score a Sample Store-Product Edge"
   ]
  },
  {
   "cell_type": "code",
   "execution_count": 4,
   "metadata": {},
   "outputs": [
    {
     "name": "stdout",
     "output_type": "stream",
     "text": [
      "Scoring edge: store:0 <-> product:0 at time 20240408\n",
      "Subgraph: 5 nodes, 1140 edges\n",
      "Raw probability: 0.3697\n",
      "Calibrated probability: 0.4778\n"
     ]
    }
   ],
   "source": [
    "# Pick a store-product pair and a time point\n",
    "store = stores[0]\n",
    "product = products[0]\n",
    "anchor_time = 20240408  # Week 0 of horizon\n",
    "\n",
    "print(f\"Scoring edge: {store} <-> {product} at time {anchor_time}\")\n",
    "\n",
    "# Sample subgraph\n",
    "sub = sample_subgraph_for_edge(G, (store, product, anchor_time), hops=1, K=30)\n",
    "print(f\"Subgraph: {sub.number_of_nodes()} nodes, {sub.number_of_edges()} edges\")\n",
    "\n",
    "# Score with model\n",
    "with torch.no_grad():\n",
    "    logit = model(sub, [(store, product, anchor_time)]).squeeze(0)\n",
    "    raw_prob = 1.0 / (1.0 + math.exp(-float(logit.item())))\n",
    "    \n",
    "    # Apply calibrator\n",
    "    cal_model = calibrator[\"model\"]\n",
    "    if calibrator.get(\"input\") == \"logit\":\n",
    "        X = [float(logit.item())]\n",
    "    else:\n",
    "        X = [raw_prob]\n",
    "    \n",
    "    if hasattr(cal_model, \"transform\"):\n",
    "        calibrated_prob = float(cal_model.transform(X)[0])\n",
    "    else:\n",
    "        calibrated_prob = float(cal_model.predict_proba(np.array(X).reshape(-1, 1))[0, 1])\n",
    "\n",
    "print(f\"Raw probability: {raw_prob:.4f}\")\n",
    "print(f\"Calibrated probability: {calibrated_prob:.4f}\")"
   ]
  },
  {
   "cell_type": "markdown",
   "metadata": {},
   "source": [
    "## 3. Load Submission Index and Features"
   ]
  },
  {
   "cell_type": "code",
   "execution_count": 5,
   "metadata": {},
   "outputs": [
    {
     "name": "stdout",
     "output_type": "stream",
     "text": [
      "Features: 599 rows\n",
      "  store_id product_id      p_t1      p_t2      p_t3  mu_hat_plus  \\\n",
      "0        0        126  0.477833  0.477833  0.477833     6.753749   \n",
      "1        0        182  0.561822  0.655629  0.655629     1.586207   \n",
      "2        1        124  1.000000  1.000000  1.000000    15.726689   \n",
      "3        2        124  1.000000  1.000000  1.000000    15.726689   \n",
      "4        2        126  0.500000  0.561822  0.561822     6.753749   \n",
      "\n",
      "   sigma_hat_plus       mu_H    sigma_H  \n",
      "0        8.893703   9.681482  12.146165  \n",
      "1        0.831170   2.971093   1.746296  \n",
      "2       29.785087  47.180068  51.589284  \n",
      "3       29.785087  47.180068  51.589284  \n",
      "4        8.893703  10.965685  12.739235  \n",
      "\n",
      "HB baseline: 599 rows, quantity column: 0\n",
      "\n",
      "Merged: 599 rows\n",
      "  store_id product_id      p_t3       mu_H    sigma_H\n",
      "0        0        126  0.477833   9.681482  12.146165\n",
      "1        0        182  0.655629   2.971093   1.746296\n",
      "2        1        124  1.000000  47.180068  51.589284\n",
      "3        2        124  1.000000  47.180068  51.589284\n",
      "4        2        126  0.561822  10.965685  12.739235\n"
     ]
    }
   ],
   "source": [
    "# Load the 599-row features\n",
    "FEATURES_PATH = \"../artifacts/orders_features_599_idemb_gated2.csv\"\n",
    "HB_PATH = \"../../vn2inventory/submissions/orders_hierarchical_final_store_cv.csv\"\n",
    "\n",
    "df_features = pd.read_csv(FEATURES_PATH)\n",
    "# Normalize to string for merge\n",
    "df_features[\"store_id\"] = df_features[\"store_id\"].astype(str)\n",
    "df_features[\"product_id\"] = df_features[\"product_id\"].astype(str)\n",
    "print(f\"Features: {len(df_features)} rows\")\n",
    "print(df_features.head())\n",
    "\n",
    "# Load HB baseline\n",
    "df_hb = pd.read_csv(HB_PATH)\n",
    "cols = {c.lower(): c for c in df_hb.columns}\n",
    "sid = cols.get(\"store_id\", list(df_hb.columns)[0])\n",
    "pid = cols.get(\"product_id\", list(df_hb.columns)[1])\n",
    "df_hb.rename(columns={sid:\"store_id\", pid:\"product_id\"}, inplace=True)\n",
    "df_hb[\"store_id\"] = df_hb[\"store_id\"].astype(str)\n",
    "df_hb[\"product_id\"] = df_hb[\"product_id\"].astype(str)\n",
    "hb_qty_col = next((c for c in df_hb.columns if c.lower() in {\"order_qty\",\"orders\",\"qty\",\"0\"}), df_hb.columns[-1])\n",
    "print(f\"\\nHB baseline: {len(df_hb)} rows, quantity column: {hb_qty_col}\")\n",
    "\n",
    "# Merge\n",
    "df = df_features.merge(df_hb[[\"store_id\",\"product_id\", hb_qty_col]], on=[\"store_id\",\"product_id\"], how=\"left\")\n",
    "df.rename(columns={hb_qty_col: \"hb_order_qty\"}, inplace=True)\n",
    "print(f\"\\nMerged: {len(df)} rows\")\n",
    "# Show non-confidential preview (exclude HB quantities)\n",
    "print(df[[\"store_id\",\"product_id\",\"p_t3\",\"mu_H\",\"sigma_H\"]].head())"
   ]
  },
  {
   "cell_type": "markdown",
   "metadata": {},
   "source": [
    "## 4. ABC Segmentation and Graph Base-Stock"
   ]
  },
  {
   "cell_type": "code",
   "execution_count": 6,
   "metadata": {},
   "outputs": [
    {
     "name": "stdout",
     "output_type": "stream",
     "text": [
      "ABC split (by mu_H quantiles 0.6/0.9):\n",
      "class\n",
      "A     60\n",
      "B    180\n",
      "C    359\n",
      "Name: count, dtype: int64\n",
      "\n",
      "Graph orders (first 10):\n",
      "  store_id product_id class  beta       mu_H    sigma_H  q_graph\n",
      "0        0        126     B  0.80   9.681482  12.146165       20\n",
      "1        0        182     C  0.70   2.971093   1.746296        4\n",
      "2        1        124     A  0.88  47.180068  51.589284      108\n",
      "3        2        124     A  0.88  47.180068  51.589284      108\n",
      "4        2        126     B  0.80  10.965685  12.739235       22\n",
      "5        3        126     B  0.80   9.833910  12.220982       20\n",
      "6        4        124     A  0.88  47.180068  51.589284      108\n",
      "7        4        126     B  0.80   9.681482  12.146165       20\n",
      "8        5        126     B  0.80  10.130623  12.363526       21\n",
      "9        6        124     A  0.88  47.180068  51.589284      108\n"
     ]
    }
   ],
   "source": [
    "# ABC by mu_H quantiles\n",
    "q1, q2 = 0.6, 0.9\n",
    "muH = pd.to_numeric(df[\"mu_H\"], errors=\"coerce\").fillna(0.0)\n",
    "t1, t2 = np.quantile(muH, [q1, q2])\n",
    "df[\"class\"] = np.where(muH >= t2, \"A\", np.where(muH >= t1, \"B\", \"C\"))\n",
    "\n",
    "print(f\"ABC split (by mu_H quantiles {q1}/{q2}):\")\n",
    "print(df[\"class\"].value_counts().sort_index())\n",
    "\n",
    "# Service levels per class\n",
    "beta_map = {\"A\": 0.88, \"B\": 0.80, \"C\": 0.70}\n",
    "df[\"beta\"] = df[\"class\"].map(beta_map)\n",
    "\n",
    "# Compute graph base-stock (using scipy for demo; see orders_vn2.py for approx)\n",
    "from scipy.stats import norm\n",
    "df[\"z\"] = norm.ppf(np.clip(df[\"beta\"].to_numpy(), 1e-6, 1-1e-6))\n",
    "df[\"S_graph\"] = df[\"mu_H\"] + df[\"z\"] * df[\"sigma_H\"]\n",
    "\n",
    "# For this demo, assume onhand/onorder=0 (simplification)\n",
    "df[\"q_graph\"] = np.rint(np.clip(df[\"S_graph\"], 0.0, None)).astype(int)\n",
    "\n",
    "print(\"\\nGraph orders (first 10):\")\n",
    "print(df[[\"store_id\",\"product_id\",\"class\",\"beta\",\"mu_H\",\"sigma_H\",\"q_graph\"]].head(10))"
   ]
  },
  {
   "cell_type": "markdown",
   "metadata": {},
   "source": [
    "## 5. Two-Sided Gated Policy"
   ]
  },
  {
   "cell_type": "code",
   "execution_count": 7,
   "metadata": {},
   "outputs": [
    {
     "name": "stdout",
     "output_type": "stream",
     "text": [
      "Two-sided gated applied (τ_hi=0.55, τ_lo=0.45)\n",
      "Changed rows: 257 / 599\n",
      "Lifts (q > HB): 257\n",
      "Caps (q < HB): 0\n"
     ]
    }
   ],
   "source": [
    "# Apply two-sided gating: lift when p_t3 >= tau_hi; cap when p_t3 <= tau_lo (B/C only)\n",
    "tau_hi = 0.55\n",
    "tau_lo = 0.45\n",
    "\n",
    "p = pd.to_numeric(df[\"p_t3\"], errors=\"coerce\").fillna(0.5).to_numpy()\n",
    "hbq = pd.to_numeric(df[\"hb_order_qty\"], errors=\"coerce\").fillna(0).to_numpy().astype(int)\n",
    "q_graph = df[\"q_graph\"].to_numpy()\n",
    "classes = df[\"class\"].to_numpy()\n",
    "\n",
    "q_final = hbq.copy()\n",
    "hi = p >= tau_hi\n",
    "lo = p <= tau_lo\n",
    "isA = (classes == \"A\")\n",
    "\n",
    "# Lift high-p\n",
    "q_final[hi] = np.maximum(hbq[hi], q_graph[hi])\n",
    "# Cap low-p (B/C only)\n",
    "lo_mask = lo & (~isA)\n",
    "q_final[lo_mask] = np.minimum(hbq[lo_mask], q_graph[lo_mask])\n",
    "\n",
    "df[\"q_gated2\"] = q_final\n",
    "\n",
    "print(f\"Two-sided gated applied (τ_hi={tau_hi}, τ_lo={tau_lo})\")\n",
    "print(f\"Changed rows: {(df['q_gated2'] != df['hb_order_qty']).sum()} / {len(df)}\")\n",
    "print(f\"Lifts (q > HB): {(df['q_gated2'] > df['hb_order_qty']).sum()}\")\n",
    "print(f\"Caps (q < HB): {(df['q_gated2'] < df['hb_order_qty']).sum()}\")"
   ]
  },
  {
   "cell_type": "markdown",
   "metadata": {},
   "source": [
    "## 6. Expected Cost Comparison"
   ]
  },
  {
   "cell_type": "code",
   "execution_count": 8,
   "metadata": {},
   "outputs": [
    {
     "name": "stdout",
     "output_type": "stream",
     "text": [
      "Total expected cost (shortage=1.0, holding=0.2/week, H=3):\n",
      "  HB baseline: 4610.13\n",
      "  Two-sided gated2: 3509.40\n",
      "  Δ cost: -1100.73\n"
     ]
    }
   ],
   "source": [
    "# Expected cost under newsvendor (zero-inflated normal approximation)\n",
    "def expected_cost(mu_H, sigma_H, S, c_short=1.0, c_hold_per_week=0.2, horizon=3):\n",
    "    from scipy.stats import norm\n",
    "    sigma_H = np.maximum(sigma_H, 1e-8)\n",
    "    z = (S - mu_H) / sigma_H\n",
    "    phi = norm.pdf(z)\n",
    "    Phi = norm.cdf(z)\n",
    "    under = sigma_H * phi + (mu_H - S) * (1.0 - Phi)\n",
    "    over  = sigma_H * phi + (S - mu_H) * Phi\n",
    "    under = np.maximum(0.0, under)\n",
    "    over = np.maximum(0.0, over)\n",
    "    Cu = c_short\n",
    "    CoH = c_hold_per_week * horizon\n",
    "    return Cu * under + CoH * over\n",
    "\n",
    "mu_H = df[\"mu_H\"].to_numpy()\n",
    "sigma_H = df[\"sigma_H\"].to_numpy()\n",
    "# Assume IP=0 for demo (onhand+onorder=0)\n",
    "S_hb = hbq.astype(float)\n",
    "S_gated2 = q_final.astype(float)\n",
    "\n",
    "cost_hb = expected_cost(mu_H, sigma_H, S_hb)\n",
    "cost_gated2 = expected_cost(mu_H, sigma_H, S_gated2)\n",
    "\n",
    "print(f\"Total expected cost (shortage=1.0, holding=0.2/week, H=3):\")\n",
    "print(f\"  HB baseline: {cost_hb.sum():.2f}\")\n",
    "print(f\"  Two-sided gated2: {cost_gated2.sum():.2f}\")\n",
    "print(f\"  Δ cost: {cost_gated2.sum() - cost_hb.sum():.2f}\")"
   ]
  },
  {
   "cell_type": "markdown",
   "metadata": {},
   "source": [
    "## 7. Sanity Checks"
   ]
  },
  {
   "cell_type": "code",
   "execution_count": 9,
   "metadata": {},
   "outputs": [
    {
     "name": "stdout",
     "output_type": "stream",
     "text": [
      "Sanity:\n",
      "  Top-50 (high p) keep-rate: 1.00 (expect ≈ 1.00)\n",
      "  Bottom-50 (low p) shrink-rate: 0.00 (expect ≤ 0.30)\n",
      "\n",
      "Changes by class:\n",
      "  A: 60 items, changed=60, lifted=60, capped=0\n",
      "  B: 180 items, changed=112, lifted=112, capped=0\n",
      "  C: 359 items, changed=85, lifted=85, capped=0\n"
     ]
    }
   ],
   "source": [
    "# Top-50 by p_t3: should keep HB (or lift)\n",
    "top_idx = np.argsort(-p)[:50]\n",
    "bot_idx = np.argsort(p)[:50]\n",
    "\n",
    "top_keep_rate = (q_final[top_idx] >= hbq[top_idx]).mean()\n",
    "bot_shrink_rate = (q_final[bot_idx] < hbq[bot_idx]).mean()\n",
    "\n",
    "print(f\"Sanity:\")\n",
    "print(f\"  Top-50 (high p) keep-rate: {top_keep_rate:.2f} (expect ≈ 1.00)\")\n",
    "print(f\"  Bottom-50 (low p) shrink-rate: {bot_shrink_rate:.2f} (expect ≤ 0.30)\")\n",
    "\n",
    "# Distribution by class\n",
    "print(\"\\nChanges by class:\")\n",
    "for cls in [\"A\",\"B\",\"C\"]:\n",
    "    mask = (classes == cls)\n",
    "    changed = (q_final[mask] != hbq[mask]).sum()\n",
    "    lifted = (q_final[mask] > hbq[mask]).sum()\n",
    "    capped = (q_final[mask] < hbq[mask]).sum()\n",
    "    print(f\"  {cls}: {mask.sum()} items, changed={changed}, lifted={lifted}, capped={capped}\")"
   ]
  },
  {
   "cell_type": "markdown",
   "metadata": {},
   "source": [
    "## 8. Visualize Probability Distribution and Order Changes"
   ]
  },
  {
   "cell_type": "code",
   "execution_count": 10,
   "metadata": {},
   "outputs": [
    {
     "data": {
      "image/png": "[encoded data removed]",
      "text/plain": [
       "<Figure size 1200x400 with 2 Axes>"
      ]
     },
     "metadata": {},
     "output_type": "display_data"
    },
    {
     "name": "stdout",
     "output_type": "stream",
     "text": [
      "\n",
      "Order change stats:\n",
      "  Mean Δ: 9.69\n",
      "  Median Δ: 0.00\n",
      "  Max lift: +336\n",
      "  Max cap: 0\n"
     ]
    }
   ],
   "source": [
    "import matplotlib.pyplot as plt\n",
    "\n",
    "fig, axes = plt.subplots(1, 2, figsize=(12, 4))\n",
    "\n",
    "# Distribution of p_t3\n",
    "axes[0].hist(p, bins=30, alpha=0.7, edgecolor='black')\n",
    "axes[0].axvline(tau_hi, color='red', linestyle='--', label=f'τ_hi={tau_hi}')\n",
    "axes[0].axvline(tau_lo, color='blue', linestyle='--', label=f'τ_lo={tau_lo}')\n",
    "axes[0].set_xlabel('p_t3 (calibrated probability)')\n",
    "axes[0].set_ylabel('Count')\n",
    "axes[0].set_title('Distribution of Calibrated Probabilities')\n",
    "axes[0].legend()\n",
    "axes[0].grid(alpha=0.3)\n",
    "\n",
    "# Order quantity changes\n",
    "delta_q = q_final - hbq\n",
    "axes[1].hist(delta_q, bins=40, alpha=0.7, edgecolor='black', color='green')\n",
    "axes[1].axvline(0, color='black', linestyle='-', linewidth=0.5)\n",
    "axes[1].set_xlabel('Δ order_qty (gated2 - HB)')\n",
    "axes[1].set_ylabel('Count')\n",
    "axes[1].set_title('Order Quantity Changes (Two-Sided Gated)')\n",
    "axes[1].grid(alpha=0.3)\n",
    "\n",
    "plt.tight_layout()\n",
    "plt.savefig('../artifacts/vn2_demo_gated2_summary.png', dpi=150, bbox_inches='tight')\n",
    "plt.show()\n",
    "\n",
    "print(f\"\\nOrder change stats:\")\n",
    "print(f\"  Mean Δ: {delta_q.mean():.2f}\")\n",
    "print(f\"  Median Δ: {np.median(delta_q):.2f}\")\n",
    "print(f\"  Max lift: +{delta_q.max():.0f}\")\n",
    "print(f\"  Max cap: {delta_q.min():.0f}\")"
   ]
  },
  {
   "cell_type": "markdown",
   "metadata": {},
   "source": [
    "## 9. Write Submission (Platform Header)"
   ]
  },
  {
   "cell_type": "code",
   "execution_count": 11,
   "metadata": {},
   "outputs": [
    {
     "name": "stdout",
     "output_type": "stream",
     "text": [
      "Wrote ../artifacts/orders_demo_gated2.csv (internal format)\n",
      "Wrote ../artifacts/orders_demo_gated2_submit.csv (platform format)\n",
      "  Store Product    0\n",
      "0     0     126    7\n",
      "1     0     182    4\n",
      "2     1     124  108\n",
      "3     2     124  108\n",
      "4     2     126   22\n"
     ]
    }
   ],
   "source": [
    "# Write internal format first\n",
    "out_internal = df[[\"store_id\",\"product_id\",\"q_gated2\"]].copy()\n",
    "out_internal.rename(columns={\"q_gated2\": \"order_qty\"}, inplace=True)\n",
    "out_internal.to_csv(\"../artifacts/orders_demo_gated2.csv\", index=False)\n",
    "print(\"Wrote ../artifacts/orders_demo_gated2.csv (internal format)\")\n",
    "\n",
    "# Convert to platform header\n",
    "out_platform = out_internal.rename(columns={\"store_id\":\"Store\", \"product_id\":\"Product\", \"order_qty\":\"0\"})\n",
    "out_platform[[\"Store\",\"Product\",\"0\"]].to_csv(\"../artifacts/orders_demo_gated2_submit.csv\", index=False)\n",
    "print(\"Wrote ../artifacts/orders_demo_gated2_submit.csv (platform format)\")\n",
    "print(out_platform.head())"
   ]
  },
  {
   "cell_type": "markdown",
   "metadata": {},
   "source": [
    "## 10. Summary\n",
    "\n",
    "- Loaded temporal MultiGraph (v2 with history features)\n",
    "- Scored edges using enhanced model + isotonic calibrator\n",
    "- Applied two-sided gated policy with ABC service levels\n",
    "- Expected cost reduced vs HB baseline\n",
    "- Submission ready in `artifacts/orders_demo_gated2_submit.csv`\n",
    "\n",
    "**Next steps**:\n",
    "- Tune τ_hi/τ_lo on the cost simulator grid\n",
    "- Experiment with mixture policies (`--blend mixture` or `mixture_min`)\n",
    "- Add cold-start rules or peer velocity features to improve low-p items\n",
    "\n",
    "See `docs/VN2_TRAINING_SUMMARY.md` for full command references and training details."
   ]
  }
 ],
 "metadata": {
  "kernelspec": {
   "display_name": "Python 3",
   "language": "python",
   "name": "python3"
  },
  "language_info": {
   "codemirror_mode": {
    "name": "ipython",
    "version": 3
   },
   "file_extension": ".py",
   "mimetype": "text/x-python",
   "name": "python",
   "nbconvert_exporter": "python",
   "pygments_lexer": "ipython3",
   "version": "3.10.0"
  }
 },
 "nbformat": 4,
 "nbformat_minor": 4
}
