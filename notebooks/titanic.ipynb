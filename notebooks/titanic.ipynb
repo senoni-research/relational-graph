{
 "cells": [
  {
   "cell_type": "markdown",
   "metadata": {
    "id": "LkE1JrLjFwhe"
   },
   "source": [
    "# KumoRFM vs. LightGBM on the Titanic dataset\n",
    "\n",
    "This notebook demonstrates single-table usage of `KumoRFM` and compares it to a strong tree-based baseline (`LightGBM`). We:\n",
    "- Load Titanic from `seaborn`\n",
    "- Create a single table with primary key `id`\n",
    "- Use a single, shared train/test split for both methods\n",
    "- Evaluate AUROC and compare results"
   ]
  },
  {
   "cell_type": "code",
   "execution_count": 1,
   "metadata": {},
   "outputs": [],
   "source": [
    "# Optional: ensure seaborn is available in this kernel\n",
    "# %pip install -q seaborn"
   ]
  },
  {
   "cell_type": "code",
   "execution_count": 2,
   "metadata": {
    "colab": {
     "base_uri": "https://localhost:8080/"
    },
    "id": "1ries9szHZD3",
    "outputId": "e7aca011-7cd8-4ef4-e20e-9f4666e9336c"
   },
   "outputs": [],
   "source": [
    "# Optional: keep `kumoai` current in this environment\n",
    "# %pip install -q --pre --upgrade kumoai"
   ]
  },
  {
   "cell_type": "code",
   "execution_count": 3,
   "metadata": {
    "id": "1TD1bYpNHalN"
   },
   "outputs": [],
   "source": [
    "# Import the KumoRFM SDK\n",
    "from kumoai.experimental import rfm"
   ]
  },
  {
   "cell_type": "code",
   "execution_count": 4,
   "metadata": {
    "colab": {
     "base_uri": "https://localhost:8080/",
     "height": 139
    },
    "id": "KnSNyQVSHbjm",
    "outputId": "7ee5c915-bdea-48c6-af2b-31f2612a6fdf"
   },
   "outputs": [
    {
     "name": "stdout",
     "output_type": "stream",
     "text": [
      "Opening browser page to automatically generate an API key...\n",
      "If the page does not open, manually create a new API key at https://kumorfm.ai/api-keys and set it using os.environ[\"KUMO_API_KEY\"] = \"YOUR_API_KEY\"\n"
     ]
    },
    {
     "name": "stderr",
     "output_type": "stream",
     "text": [
      "[2025-09-29 22:05:17 - kumoai:301 - INFO] Generated token \"sdk-m4max-2025-09-29-22-05-02-Z\" and saved to KUMO_API_KEY env variable\n"
     ]
    }
   ],
   "source": [
    "# Authentication: prefer env var `KUMO_API_KEY`; fall back to interactive auth\n",
    "import os\n",
    "\n",
    "if not os.environ.get(\"KUMO_API_KEY\"):\n",
    "    rfm.authenticate()"
   ]
  },
  {
   "cell_type": "code",
   "execution_count": 5,
   "metadata": {
    "colab": {
     "base_uri": "https://localhost:8080/"
    },
    "id": "6Dh4VLlQHddD",
    "outputId": "1b5fc412-fb08-449f-de4c-1aef338bad0e"
   },
   "outputs": [
    {
     "name": "stderr",
     "output_type": "stream",
     "text": [
      "[2025-09-29 22:05:18 - kumoai:203 - INFO] Successfully initialized the Kumo SDK against deployment https://kumorfm.ai/api, with log level INFO.\n"
     ]
    }
   ],
   "source": [
    "# Initialize the SDK (prints deployment and logging level)\n",
    "rfm.init()"
   ]
  },
  {
   "cell_type": "code",
   "execution_count": 6,
   "metadata": {
    "colab": {
     "base_uri": "https://localhost:8080/"
    },
    "id": "nM5zyWODF7xH",
    "outputId": "2b96dc37-e2ab-4e4a-a7bc-5cec61c56911"
   },
   "outputs": [
    {
     "data": {
      "text/html": [
       "<div>\n",
       "<style scoped>\n",
       "    .dataframe tbody tr th:only-of-type {\n",
       "        vertical-align: middle;\n",
       "    }\n",
       "\n",
       "    .dataframe tbody tr th {\n",
       "        vertical-align: top;\n",
       "    }\n",
       "\n",
       "    .dataframe thead th {\n",
       "        text-align: right;\n",
       "    }\n",
       "</style>\n",
       "<table border=\"1\" class=\"dataframe\">\n",
       "  <thead>\n",
       "    <tr style=\"text-align: right;\">\n",
       "      <th></th>\n",
       "      <th>id</th>\n",
       "      <th>pclass</th>\n",
       "      <th>sex</th>\n",
       "      <th>age</th>\n",
       "      <th>sibsp</th>\n",
       "      <th>parch</th>\n",
       "      <th>fare</th>\n",
       "      <th>embarked</th>\n",
       "      <th>alone</th>\n",
       "      <th>survived</th>\n",
       "    </tr>\n",
       "  </thead>\n",
       "  <tbody>\n",
       "    <tr>\n",
       "      <th>0</th>\n",
       "      <td>0</td>\n",
       "      <td>3</td>\n",
       "      <td>male</td>\n",
       "      <td>22.0</td>\n",
       "      <td>1</td>\n",
       "      <td>0</td>\n",
       "      <td>7.2500</td>\n",
       "      <td>S</td>\n",
       "      <td>False</td>\n",
       "      <td>0.0</td>\n",
       "    </tr>\n",
       "    <tr>\n",
       "      <th>1</th>\n",
       "      <td>1</td>\n",
       "      <td>1</td>\n",
       "      <td>female</td>\n",
       "      <td>38.0</td>\n",
       "      <td>1</td>\n",
       "      <td>0</td>\n",
       "      <td>71.2833</td>\n",
       "      <td>C</td>\n",
       "      <td>False</td>\n",
       "      <td>1.0</td>\n",
       "    </tr>\n",
       "    <tr>\n",
       "      <th>2</th>\n",
       "      <td>2</td>\n",
       "      <td>3</td>\n",
       "      <td>female</td>\n",
       "      <td>26.0</td>\n",
       "      <td>0</td>\n",
       "      <td>0</td>\n",
       "      <td>7.9250</td>\n",
       "      <td>S</td>\n",
       "      <td>True</td>\n",
       "      <td>1.0</td>\n",
       "    </tr>\n",
       "    <tr>\n",
       "      <th>3</th>\n",
       "      <td>3</td>\n",
       "      <td>1</td>\n",
       "      <td>female</td>\n",
       "      <td>35.0</td>\n",
       "      <td>1</td>\n",
       "      <td>0</td>\n",
       "      <td>53.1000</td>\n",
       "      <td>S</td>\n",
       "      <td>False</td>\n",
       "      <td>1.0</td>\n",
       "    </tr>\n",
       "    <tr>\n",
       "      <th>4</th>\n",
       "      <td>4</td>\n",
       "      <td>3</td>\n",
       "      <td>male</td>\n",
       "      <td>35.0</td>\n",
       "      <td>0</td>\n",
       "      <td>0</td>\n",
       "      <td>8.0500</td>\n",
       "      <td>S</td>\n",
       "      <td>True</td>\n",
       "      <td>NaN</td>\n",
       "    </tr>\n",
       "  </tbody>\n",
       "</table>\n",
       "</div>"
      ],
      "text/plain": [
       "   id  pclass     sex   age  sibsp  parch     fare embarked  alone  survived\n",
       "0   0       3    male  22.0      1      0   7.2500        S  False       0.0\n",
       "1   1       1  female  38.0      1      0  71.2833        C  False       1.0\n",
       "2   2       3  female  26.0      0      0   7.9250        S   True       1.0\n",
       "3   3       1  female  35.0      1      0  53.1000        S  False       1.0\n",
       "4   4       3    male  35.0      0      0   8.0500        S   True       NaN"
      ]
     },
     "metadata": {},
     "output_type": "display_data"
    }
   ],
   "source": [
    "# Load Titanic and create a single-table dataset\n",
    "# - Keep a simple set of numeric + categorical columns\n",
    "# - Create a single primary key `id`\n",
    "# - Create ONE shared stratified train/test split used by both KumoRFM and LightGBM\n",
    "import numpy as np\n",
    "import pandas as pd\n",
    "import seaborn as sns\n",
    "from sklearn.model_selection import train_test_split\n",
    "\n",
    "# Load and pick a few useful columns\n",
    "df = sns.load_dataset(\"titanic\").copy()\n",
    "cols = [\"pclass\", \"sex\", \"age\", \"sibsp\", \"parch\", \"fare\", \"embarked\", \"alone\"]\n",
    "df = df[[\"survived\"] + cols].dropna(subset=[\"survived\"]).reset_index(drop=True)\n",
    "\n",
    "# Stable integer IDs\n",
    "df[\"id\"] = df.index\n",
    "\n",
    "# Shared train/test split (stratified)\n",
    "y = df[\"survived\"]\n",
    "train_ids, test_ids = train_test_split(\n",
    "    df[\"id\"].values, test_size=0.2, random_state=42, stratify=y\n",
    ")\n",
    "\n",
    "# KumoRFM view: mask test labels to simulate missing-value imputation\n",
    "table = df[[\"id\"] + cols + [\"survived\"]].copy()\n",
    "table.loc[table[\"id\"].isin(test_ids), \"survived\"] = pd.NA\n",
    "\n",
    "display(table.head())"
   ]
  },
  {
   "cell_type": "code",
   "execution_count": 7,
   "metadata": {
    "colab": {
     "base_uri": "https://localhost:8080/",
     "height": 423
    },
    "id": "bAL2IGYcGFxb",
    "outputId": "a3d891c9-c80b-4093-cc97-d1fe9a74f552"
   },
   "outputs": [
    {
     "data": {
      "text/markdown": [
       "### 🗂️ Graph Metadata"
      ],
      "text/plain": [
       "<IPython.core.display.Markdown object>"
      ]
     },
     "metadata": {},
     "output_type": "display_data"
    },
    {
     "data": {
      "text/html": [
       "<style type=\"text/css\">\n",
       "</style>\n",
       "<table id=\"T_d965b\">\n",
       "  <thead>\n",
       "    <tr>\n",
       "      <th id=\"T_d965b_level0_col0\" class=\"col_heading level0 col0\" >name</th>\n",
       "      <th id=\"T_d965b_level0_col1\" class=\"col_heading level0 col1\" >primary_key</th>\n",
       "      <th id=\"T_d965b_level0_col2\" class=\"col_heading level0 col2\" >time_column</th>\n",
       "    </tr>\n",
       "  </thead>\n",
       "  <tbody>\n",
       "    <tr>\n",
       "      <td id=\"T_d965b_row0_col0\" class=\"data row0 col0\" >table</td>\n",
       "      <td id=\"T_d965b_row0_col1\" class=\"data row0 col1\" >id</td>\n",
       "      <td id=\"T_d965b_row0_col2\" class=\"data row0 col2\" >-</td>\n",
       "    </tr>\n",
       "  </tbody>\n",
       "</table>\n"
      ],
      "text/plain": [
       "<pandas.io.formats.style.Styler at 0x11ff85970>"
      ]
     },
     "metadata": {},
     "output_type": "display_data"
    },
    {
     "data": {
      "text/markdown": [
       "### 🕸️ Graph Links (FK ↔️ PK)"
      ],
      "text/plain": [
       "<IPython.core.display.Markdown object>"
      ]
     },
     "metadata": {},
     "output_type": "display_data"
    },
    {
     "data": {
      "text/markdown": [
       "*No links registered*"
      ],
      "text/plain": [
       "<IPython.core.display.Markdown object>"
      ]
     },
     "metadata": {},
     "output_type": "display_data"
    },
    {
     "data": {
      "application/vnd.jupyter.widget-view+json": {
       "model_id": "363c075fd4c945a7b8d8f16fdc1d31b3",
       "version_major": 2,
       "version_minor": 0
      },
      "text/plain": [
       "Output()"
      ]
     },
     "metadata": {},
     "output_type": "display_data"
    },
    {
     "data": {
      "text/html": [
       "<pre style=\"white-space:pre;overflow-x:auto;line-height:normal;font-family:Menlo,'DejaVu Sans Mono',consolas,'Courier New',monospace\"></pre>\n"
      ],
      "text/plain": []
     },
     "metadata": {},
     "output_type": "display_data"
    },
    {
     "data": {
      "text/markdown": [
       "### 🏷️ Metadata of Table `table` (891 rows)"
      ],
      "text/plain": [
       "<IPython.core.display.Markdown object>"
      ]
     },
     "metadata": {},
     "output_type": "display_data"
    },
    {
     "data": {
      "text/html": [
       "<style type=\"text/css\">\n",
       "</style>\n",
       "<table id=\"T_bf10a\">\n",
       "  <thead>\n",
       "    <tr>\n",
       "      <th id=\"T_bf10a_level0_col0\" class=\"col_heading level0 col0\" >name</th>\n",
       "      <th id=\"T_bf10a_level0_col1\" class=\"col_heading level0 col1\" >dtype</th>\n",
       "      <th id=\"T_bf10a_level0_col2\" class=\"col_heading level0 col2\" >stype</th>\n",
       "      <th id=\"T_bf10a_level0_col3\" class=\"col_heading level0 col3\" >is_primary_key</th>\n",
       "      <th id=\"T_bf10a_level0_col4\" class=\"col_heading level0 col4\" >is_time_column</th>\n",
       "    </tr>\n",
       "  </thead>\n",
       "  <tbody>\n",
       "    <tr>\n",
       "      <td id=\"T_bf10a_row0_col0\" class=\"data row0 col0\" >id</td>\n",
       "      <td id=\"T_bf10a_row0_col1\" class=\"data row0 col1\" >int</td>\n",
       "      <td id=\"T_bf10a_row0_col2\" class=\"data row0 col2\" >ID</td>\n",
       "      <td id=\"T_bf10a_row0_col3\" class=\"data row0 col3\" >True</td>\n",
       "      <td id=\"T_bf10a_row0_col4\" class=\"data row0 col4\" >False</td>\n",
       "    </tr>\n",
       "    <tr>\n",
       "      <td id=\"T_bf10a_row1_col0\" class=\"data row1 col0\" >pclass</td>\n",
       "      <td id=\"T_bf10a_row1_col1\" class=\"data row1 col1\" >int</td>\n",
       "      <td id=\"T_bf10a_row1_col2\" class=\"data row1 col2\" >categorical</td>\n",
       "      <td id=\"T_bf10a_row1_col3\" class=\"data row1 col3\" >False</td>\n",
       "      <td id=\"T_bf10a_row1_col4\" class=\"data row1 col4\" >False</td>\n",
       "    </tr>\n",
       "    <tr>\n",
       "      <td id=\"T_bf10a_row2_col0\" class=\"data row2 col0\" >sex</td>\n",
       "      <td id=\"T_bf10a_row2_col1\" class=\"data row2 col1\" >string</td>\n",
       "      <td id=\"T_bf10a_row2_col2\" class=\"data row2 col2\" >categorical</td>\n",
       "      <td id=\"T_bf10a_row2_col3\" class=\"data row2 col3\" >False</td>\n",
       "      <td id=\"T_bf10a_row2_col4\" class=\"data row2 col4\" >False</td>\n",
       "    </tr>\n",
       "    <tr>\n",
       "      <td id=\"T_bf10a_row3_col0\" class=\"data row3 col0\" >age</td>\n",
       "      <td id=\"T_bf10a_row3_col1\" class=\"data row3 col1\" >float</td>\n",
       "      <td id=\"T_bf10a_row3_col2\" class=\"data row3 col2\" >numerical</td>\n",
       "      <td id=\"T_bf10a_row3_col3\" class=\"data row3 col3\" >False</td>\n",
       "      <td id=\"T_bf10a_row3_col4\" class=\"data row3 col4\" >False</td>\n",
       "    </tr>\n",
       "    <tr>\n",
       "      <td id=\"T_bf10a_row4_col0\" class=\"data row4 col0\" >sibsp</td>\n",
       "      <td id=\"T_bf10a_row4_col1\" class=\"data row4 col1\" >int</td>\n",
       "      <td id=\"T_bf10a_row4_col2\" class=\"data row4 col2\" >categorical</td>\n",
       "      <td id=\"T_bf10a_row4_col3\" class=\"data row4 col3\" >False</td>\n",
       "      <td id=\"T_bf10a_row4_col4\" class=\"data row4 col4\" >False</td>\n",
       "    </tr>\n",
       "    <tr>\n",
       "      <td id=\"T_bf10a_row5_col0\" class=\"data row5 col0\" >parch</td>\n",
       "      <td id=\"T_bf10a_row5_col1\" class=\"data row5 col1\" >int</td>\n",
       "      <td id=\"T_bf10a_row5_col2\" class=\"data row5 col2\" >categorical</td>\n",
       "      <td id=\"T_bf10a_row5_col3\" class=\"data row5 col3\" >False</td>\n",
       "      <td id=\"T_bf10a_row5_col4\" class=\"data row5 col4\" >False</td>\n",
       "    </tr>\n",
       "    <tr>\n",
       "      <td id=\"T_bf10a_row6_col0\" class=\"data row6 col0\" >fare</td>\n",
       "      <td id=\"T_bf10a_row6_col1\" class=\"data row6 col1\" >float</td>\n",
       "      <td id=\"T_bf10a_row6_col2\" class=\"data row6 col2\" >numerical</td>\n",
       "      <td id=\"T_bf10a_row6_col3\" class=\"data row6 col3\" >False</td>\n",
       "      <td id=\"T_bf10a_row6_col4\" class=\"data row6 col4\" >False</td>\n",
       "    </tr>\n",
       "    <tr>\n",
       "      <td id=\"T_bf10a_row7_col0\" class=\"data row7 col0\" >embarked</td>\n",
       "      <td id=\"T_bf10a_row7_col1\" class=\"data row7 col1\" >string</td>\n",
       "      <td id=\"T_bf10a_row7_col2\" class=\"data row7 col2\" >categorical</td>\n",
       "      <td id=\"T_bf10a_row7_col3\" class=\"data row7 col3\" >False</td>\n",
       "      <td id=\"T_bf10a_row7_col4\" class=\"data row7 col4\" >False</td>\n",
       "    </tr>\n",
       "    <tr>\n",
       "      <td id=\"T_bf10a_row8_col0\" class=\"data row8 col0\" >alone</td>\n",
       "      <td id=\"T_bf10a_row8_col1\" class=\"data row8 col1\" >bool</td>\n",
       "      <td id=\"T_bf10a_row8_col2\" class=\"data row8 col2\" >categorical</td>\n",
       "      <td id=\"T_bf10a_row8_col3\" class=\"data row8 col3\" >False</td>\n",
       "      <td id=\"T_bf10a_row8_col4\" class=\"data row8 col4\" >False</td>\n",
       "    </tr>\n",
       "    <tr>\n",
       "      <td id=\"T_bf10a_row9_col0\" class=\"data row9 col0\" >survived</td>\n",
       "      <td id=\"T_bf10a_row9_col1\" class=\"data row9 col1\" >float</td>\n",
       "      <td id=\"T_bf10a_row9_col2\" class=\"data row9 col2\" >categorical</td>\n",
       "      <td id=\"T_bf10a_row9_col3\" class=\"data row9 col3\" >False</td>\n",
       "      <td id=\"T_bf10a_row9_col4\" class=\"data row9 col4\" >False</td>\n",
       "    </tr>\n",
       "  </tbody>\n",
       "</table>\n"
      ],
      "text/plain": [
       "<pandas.io.formats.style.Styler at 0x32c11b220>"
      ]
     },
     "metadata": {},
     "output_type": "display_data"
    }
   ],
   "source": [
    "# Build a local graph with a single table and instantiate KumoRFM\n",
    "from kumoai.experimental import rfm\n",
    "\n",
    "graph = rfm.LocalGraph.from_data({\"table\": table})\n",
    "model = rfm.KumoRFM(graph)\n",
    "\n",
    "graph[\"table\"].print_metadata()"
   ]
  },
  {
   "cell_type": "code",
   "execution_count": 8,
   "metadata": {},
   "outputs": [
    {
     "data": {
      "application/vnd.jupyter.widget-view+json": {
       "model_id": "5eca8f8668fb411491de3b342273cc96",
       "version_major": 2,
       "version_minor": 0
      },
      "text/plain": [
       "Output()"
      ]
     },
     "metadata": {},
     "output_type": "display_data"
    },
    {
     "data": {
      "text/html": [
       "<pre style=\"white-space:pre;overflow-x:auto;line-height:normal;font-family:Menlo,'DejaVu Sans Mono',consolas,'Courier New',monospace\"></pre>\n"
      ],
      "text/plain": []
     },
     "metadata": {},
     "output_type": "display_data"
    },
    {
     "data": {
      "text/html": [
       "<div>\n",
       "<style scoped>\n",
       "    .dataframe tbody tr th:only-of-type {\n",
       "        vertical-align: middle;\n",
       "    }\n",
       "\n",
       "    .dataframe tbody tr th {\n",
       "        vertical-align: top;\n",
       "    }\n",
       "\n",
       "    .dataframe thead th {\n",
       "        text-align: right;\n",
       "    }\n",
       "</style>\n",
       "<table border=\"1\" class=\"dataframe\">\n",
       "  <thead>\n",
       "    <tr style=\"text-align: right;\">\n",
       "      <th></th>\n",
       "      <th>ENTITY</th>\n",
       "      <th>TARGET_PRED</th>\n",
       "      <th>False_PROB</th>\n",
       "      <th>True_PROB</th>\n",
       "    </tr>\n",
       "  </thead>\n",
       "  <tbody>\n",
       "    <tr>\n",
       "      <th>0</th>\n",
       "      <td>565</td>\n",
       "      <td>False</td>\n",
       "      <td>0.830244</td>\n",
       "      <td>0.169756</td>\n",
       "    </tr>\n",
       "    <tr>\n",
       "      <th>1</th>\n",
       "      <td>160</td>\n",
       "      <td>False</td>\n",
       "      <td>0.900935</td>\n",
       "      <td>0.099065</td>\n",
       "    </tr>\n",
       "    <tr>\n",
       "      <th>2</th>\n",
       "      <td>553</td>\n",
       "      <td>False</td>\n",
       "      <td>0.818403</td>\n",
       "      <td>0.181597</td>\n",
       "    </tr>\n",
       "    <tr>\n",
       "      <th>3</th>\n",
       "      <td>860</td>\n",
       "      <td>False</td>\n",
       "      <td>0.886015</td>\n",
       "      <td>0.113985</td>\n",
       "    </tr>\n",
       "    <tr>\n",
       "      <th>4</th>\n",
       "      <td>241</td>\n",
       "      <td>True</td>\n",
       "      <td>0.474409</td>\n",
       "      <td>0.525591</td>\n",
       "    </tr>\n",
       "  </tbody>\n",
       "</table>\n",
       "</div>"
      ],
      "text/plain": [
       "   ENTITY  TARGET_PRED  False_PROB  True_PROB\n",
       "0     565        False    0.830244   0.169756\n",
       "1     160        False    0.900935   0.099065\n",
       "2     553        False    0.818403   0.181597\n",
       "3     860        False    0.886015   0.113985\n",
       "4     241         True    0.474409   0.525591"
      ]
     },
     "execution_count": 8,
     "metadata": {},
     "output_type": "execute_result"
    }
   ],
   "source": [
    "# Predict on the test IDs using the KumoRFM query language\n",
    "id_list = \", \".join(str(i) for i in test_ids)\n",
    "query = f\"PREDICT table.survived=1 FOR table.id IN ({id_list})\"\n",
    "result = model.predict(query)\n",
    "result.head()"
   ]
  },
  {
   "cell_type": "markdown",
   "metadata": {
    "id": "mDKjl9OAHT6S"
   },
   "source": [
    "Let's read this data frame into `KumoRFM`:"
   ]
  },
  {
   "cell_type": "code",
   "execution_count": 9,
   "metadata": {
    "colab": {
     "base_uri": "https://localhost:8080/",
     "height": 248,
     "referenced_widgets": [
      "8a29ee474bb3497ea30913c03a945ed5",
      "513f3454458546a1a855009d9e52f225"
     ]
    },
    "id": "RDSlOfC7FVBx",
    "outputId": "d331621a-de52-439f-ba09-66f9d577e6ae"
   },
   "outputs": [
    {
     "name": "stdout",
     "output_type": "stream",
     "text": [
      "AUROC (naive): 0.1568\n"
     ]
    }
   ],
   "source": [
    "# WARNING: This naive evaluation assumes result rows are ordered like `test_ids`.\n",
    "# In practice, always align by ID. The robust evaluation is in the next cell.\n",
    "from sklearn.metrics import roc_auc_score\n",
    "\n",
    "y_test = df.set_index(\"id\").loc[list(test_ids), \"survived\"].to_numpy()\n",
    "prob_col = [c for c in result.columns if c.endswith(\"_PROB\")][0]\n",
    "y_pred = result[prob_col].to_numpy()\n",
    "print(f\"AUROC (naive): {roc_auc_score(y_test, y_pred):.4f}\")"
   ]
  },
  {
   "cell_type": "code",
   "execution_count": 10,
   "metadata": {},
   "outputs": [
    {
     "name": "stdout",
     "output_type": "stream",
     "text": [
      "AUC: 0.8432  |  AUC(1-prob): 0.1568  |  prob_col: True_PROB\n"
     ]
    }
   ],
   "source": [
    "# Robust evaluation: align predictions to ground-truth by ID, then compute AUROC\n",
    "# - KumoRFM returns an `ENTITY` column; we parse integer IDs from it\n",
    "# - We then gather `y_true` in exactly that row order\n",
    "# - Finally, choose the positive-class probability and compute AUROC\n",
    "import re\n",
    "from sklearn.metrics import roc_auc_score\n",
    "\n",
    "# Parse integer IDs from the ENTITY column\n",
    "def parse_entity_id(x):\n",
    "    if isinstance(x, (int, np.integer)):\n",
    "        return int(x)\n",
    "    m = re.search(r\"(\\d+)$\", str(x))\n",
    "    return int(m.group(1)) if m else None\n",
    "\n",
    "result_ids = result[\"ENTITY\"].map(parse_entity_id)\n",
    "assert result_ids.notna().all(), f\"Unparsed ENTITY values: {result['ENTITY'].head()}\"\n",
    "\n",
    "# Align y_true to the prediction rows\n",
    "y_true = df.set_index(\"id\").loc[result_ids, \"survived\"].to_numpy()\n",
    "\n",
    "# Pick positive-class probability\n",
    "prob_col = \"1_PROB\" if \"1_PROB\" in result.columns else (\"True_PROB\" if \"True_PROB\" in result.columns else result.filter(like=\"_PROB\").columns[0])\n",
    "y_pred = result[prob_col].to_numpy()\n",
    "\n",
    "auc = roc_auc_score(y_true, y_pred)\n",
    "auc_flip = roc_auc_score(y_true, 1 - y_pred)\n",
    "print(f\"AUC: {auc:.4f}  |  AUC(1-prob): {auc_flip:.4f}  |  prob_col: {prob_col}\")"
   ]
  },
  {
   "cell_type": "code",
   "execution_count": 11,
   "metadata": {},
   "outputs": [
    {
     "name": "stdout",
     "output_type": "stream",
     "text": [
      "Best threshold: 0.3497413397\n",
      "              precision    recall  f1-score   support\n",
      "\n",
      "           0     0.8763    0.7727    0.8213       110\n",
      "           1     0.6951    0.8261    0.7550        69\n",
      "\n",
      "    accuracy                         0.7933       179\n",
      "   macro avg     0.7857    0.7994    0.7881       179\n",
      "weighted avg     0.8065    0.7933    0.7957       179\n",
      "\n",
      "Confusion matrix:\n",
      " [[85 25]\n",
      " [12 57]]\n"
     ]
    }
   ],
   "source": [
    "from sklearn.metrics import roc_curve, classification_report, confusion_matrix\n",
    "\n",
    "fpr, tpr, thresholds = roc_curve(y_true, y_pred)\n",
    "j = tpr - fpr\n",
    "best_idx = j.argmax()\n",
    "best_thresh = thresholds[best_idx]\n",
    "\n",
    "y_hat = (y_pred >= best_thresh).astype(int)\n",
    "print(\"Best threshold:\", best_thresh)\n",
    "print(classification_report(y_true, y_hat, digits=4))\n",
    "print(\"Confusion matrix:\\n\", confusion_matrix(y_true, y_hat))"
   ]
  },
  {
   "cell_type": "code",
   "execution_count": 12,
   "metadata": {},
   "outputs": [
    {
     "data": {
      "text/html": [
       "<div>\n",
       "<style scoped>\n",
       "    .dataframe tbody tr th:only-of-type {\n",
       "        vertical-align: middle;\n",
       "    }\n",
       "\n",
       "    .dataframe tbody tr th {\n",
       "        vertical-align: top;\n",
       "    }\n",
       "\n",
       "    .dataframe thead th {\n",
       "        text-align: right;\n",
       "    }\n",
       "</style>\n",
       "<table border=\"1\" class=\"dataframe\">\n",
       "  <thead>\n",
       "    <tr style=\"text-align: right;\">\n",
       "      <th></th>\n",
       "      <th>id</th>\n",
       "      <th>survived_true</th>\n",
       "      <th>survived_prob</th>\n",
       "      <th>survived_pred</th>\n",
       "    </tr>\n",
       "  </thead>\n",
       "  <tbody>\n",
       "    <tr>\n",
       "      <th>0</th>\n",
       "      <td>565</td>\n",
       "      <td>0</td>\n",
       "      <td>0.169756</td>\n",
       "      <td>0</td>\n",
       "    </tr>\n",
       "    <tr>\n",
       "      <th>1</th>\n",
       "      <td>160</td>\n",
       "      <td>0</td>\n",
       "      <td>0.099065</td>\n",
       "      <td>0</td>\n",
       "    </tr>\n",
       "    <tr>\n",
       "      <th>2</th>\n",
       "      <td>553</td>\n",
       "      <td>1</td>\n",
       "      <td>0.181597</td>\n",
       "      <td>0</td>\n",
       "    </tr>\n",
       "    <tr>\n",
       "      <th>3</th>\n",
       "      <td>860</td>\n",
       "      <td>0</td>\n",
       "      <td>0.113985</td>\n",
       "      <td>0</td>\n",
       "    </tr>\n",
       "    <tr>\n",
       "      <th>4</th>\n",
       "      <td>241</td>\n",
       "      <td>1</td>\n",
       "      <td>0.525591</td>\n",
       "      <td>1</td>\n",
       "    </tr>\n",
       "  </tbody>\n",
       "</table>\n",
       "</div>"
      ],
      "text/plain": [
       "    id  survived_true  survived_prob  survived_pred\n",
       "0  565              0       0.169756              0\n",
       "1  160              0       0.099065              0\n",
       "2  553              1       0.181597              0\n",
       "3  860              0       0.113985              0\n",
       "4  241              1       0.525591              1"
      ]
     },
     "metadata": {},
     "output_type": "display_data"
    }
   ],
   "source": [
    "pred_df = pd.DataFrame({\"id\": result_ids, \"survived_true\": y_true, \"survived_prob\": y_pred, \"survived_pred\": y_hat})\n",
    "display(pred_df.head())"
   ]
  },
  {
   "cell_type": "code",
   "execution_count": 13,
   "metadata": {},
   "outputs": [
    {
     "name": "stdout",
     "output_type": "stream",
     "text": [
      "Note: you may need to restart the kernel to use updated packages.\n"
     ]
    }
   ],
   "source": [
    "# Install LightGBM (one-time)\n",
    "# If already installed in the venv, this is a no-op\n",
    "%pip install -q lightgbm\n"
   ]
  },
  {
   "cell_type": "code",
   "execution_count": 14,
   "metadata": {},
   "outputs": [
    {
     "name": "stdout",
     "output_type": "stream",
     "text": [
      "LightGBM AUROC: 0.8177206851119895\n"
     ]
    }
   ],
   "source": [
    "# LightGBM baseline using the SAME split and native categoricals\n",
    "# - Uses the same `train_ids`/`test_ids`\n",
    "# - Casts categorical columns to pandas `category` dtype\n",
    "# - Early stopping via callbacks (LightGBM v4+ sklearn API)\n",
    "import pandas as pd\n",
    "import logging\n",
    "from lightgbm import LGBMClassifier, early_stopping, log_evaluation\n",
    "from sklearn.metrics import roc_auc_score\n",
    "\n",
    "logging.getLogger(\"lightgbm\").setLevel(logging.ERROR)\n",
    "\n",
    "cat_cols = [\"sex\", \"embarked\", \"alone\", \"pclass\"]\n",
    "num_cols = [\"age\", \"sibsp\", \"parch\", \"fare\"]\n",
    "\n",
    "df_lgb = df[[\"id\", \"survived\"] + cat_cols + num_cols].copy()\n",
    "for c in cat_cols:\n",
    "    df_lgb[c] = df_lgb[c].astype(\"category\")\n",
    "\n",
    "train_mask = df_lgb[\"id\"].isin(train_ids)\n",
    "test_mask  = df_lgb[\"id\"].isin(test_ids)\n",
    "\n",
    "X_train = df_lgb.loc[train_mask, cat_cols + num_cols]\n",
    "y_train = df_lgb.loc[train_mask, \"survived\"].astype(int)\n",
    "X_test  = df_lgb.loc[test_mask,  cat_cols + num_cols]\n",
    "y_test  = df_lgb.loc[test_mask,  \"survived\"].astype(int)\n",
    "\n",
    "lgbm = LGBMClassifier(\n",
    "    n_estimators=1000,\n",
    "    learning_rate=0.05,\n",
    "    num_leaves=31,\n",
    "    min_child_samples=10,\n",
    "    subsample=0.9,\n",
    "    colsample_bytree=0.9,\n",
    "    reg_lambda=0.5,\n",
    "    random_state=42,\n",
    "    verbosity=-1,\n",
    ")\n",
    "\n",
    "lgbm.fit(\n",
    "    X_train, y_train,\n",
    "    eval_set=[(X_test, y_test)],\n",
    "    eval_metric=\"auc\",\n",
    "    categorical_feature=cat_cols,\n",
    "    callbacks=[\n",
    "        early_stopping(stopping_rounds=100, verbose=False),\n",
    "        log_evaluation(period=0),\n",
    "    ],\n",
    ")\n",
    "\n",
    "y_pred_lgb = lgbm.predict_proba(X_test)[:, 1]\n",
    "auc_lgb = roc_auc_score(y_test, y_pred_lgb)\n",
    "print(\"LightGBM AUROC:\", auc_lgb)"
   ]
  },
  {
   "cell_type": "code",
   "execution_count": 15,
   "metadata": {},
   "outputs": [
    {
     "data": {
      "text/html": [
       "<div>\n",
       "<style scoped>\n",
       "    .dataframe tbody tr th:only-of-type {\n",
       "        vertical-align: middle;\n",
       "    }\n",
       "\n",
       "    .dataframe tbody tr th {\n",
       "        vertical-align: top;\n",
       "    }\n",
       "\n",
       "    .dataframe thead th {\n",
       "        text-align: right;\n",
       "    }\n",
       "</style>\n",
       "<table border=\"1\" class=\"dataframe\">\n",
       "  <thead>\n",
       "    <tr style=\"text-align: right;\">\n",
       "      <th></th>\n",
       "      <th>Model</th>\n",
       "      <th>AUROC</th>\n",
       "    </tr>\n",
       "  </thead>\n",
       "  <tbody>\n",
       "    <tr>\n",
       "      <th>0</th>\n",
       "      <td>KumoRFM</td>\n",
       "      <td>0.843215</td>\n",
       "    </tr>\n",
       "    <tr>\n",
       "      <th>1</th>\n",
       "      <td>LightGBM</td>\n",
       "      <td>0.817721</td>\n",
       "    </tr>\n",
       "  </tbody>\n",
       "</table>\n",
       "</div>"
      ],
      "text/plain": [
       "      Model     AUROC\n",
       "0   KumoRFM  0.843215\n",
       "1  LightGBM  0.817721"
      ]
     },
     "metadata": {},
     "output_type": "display_data"
    }
   ],
   "source": [
    "# Compare KumoRFM vs LightGBM on the SAME test split\n",
    "import pandas as pd\n",
    "from sklearn.metrics import roc_auc_score\n",
    "\n",
    "auc_kumo = roc_auc_score(y_true, y_pred)\n",
    "comparison = pd.DataFrame({\"Model\": [\"KumoRFM\", \"LightGBM\"], \"AUROC\": [auc_kumo, auc_lgb]}).sort_values(\"AUROC\", ascending=False)\n",
    "display(comparison)\n"
   ]
  },
  {
   "cell_type": "code",
   "execution_count": null,
   "metadata": {},
   "outputs": [],
   "source": []
  }
 ],
 "metadata": {
  "colab": {
   "provenance": []
  },
  "kernelspec": {
   "display_name": ".venv",
   "language": "python",
   "name": "python3"
  },
  "language_info": {
   "codemirror_mode": {
    "name": "ipython",
    "version": 3
   },
   "file_extension": ".py",
   "mimetype": "text/x-python",
   "name": "python",
   "nbconvert_exporter": "python",
   "pygments_lexer": "ipython3",
   "version": "3.9.6"
  },
  "widgets": {
   "application/vnd.jupyter.widget-state+json": {
    "513f3454458546a1a855009d9e52f225": {
     "model_module": "@jupyter-widgets/base",
     "model_module_version": "1.2.0",
     "model_name": "LayoutModel",
     "state": {
      "_model_module": "@jupyter-widgets/base",
      "_model_module_version": "1.2.0",
      "_model_name": "LayoutModel",
      "_view_count": null,
      "_view_module": "@jupyter-widgets/base",
      "_view_module_version": "1.2.0",
      "_view_name": "LayoutView",
      "align_content": null,
      "align_items": null,
      "align_self": null,
      "border": null,
      "bottom": null,
      "display": null,
      "flex": null,
      "flex_flow": null,
      "grid_area": null,
      "grid_auto_columns": null,
      "grid_auto_flow": null,
      "grid_auto_rows": null,
      "grid_column": null,
      "grid_gap": null,
      "grid_row": null,
      "grid_template_areas": null,
      "grid_template_columns": null,
      "grid_template_rows": null,
      "height": null,
      "justify_content": null,
      "justify_items": null,
      "left": null,
      "margin": null,
      "max_height": null,
      "max_width": null,
      "min_height": null,
      "min_width": null,
      "object_fit": null,
      "object_position": null,
      "order": null,
      "overflow": null,
      "overflow_x": null,
      "overflow_y": null,
      "padding": null,
      "right": null,
      "top": null,
      "visibility": null,
      "width": null
     }
    },
    "8a29ee474bb3497ea30913c03a945ed5": {
     "model_module": "@jupyter-widgets/output",
     "model_module_version": "1.0.0",
     "model_name": "OutputModel",
     "state": {
      "_dom_classes": [],
      "_model_module": "@jupyter-widgets/output",
      "_model_module_version": "1.0.0",
      "_model_name": "OutputModel",
      "_view_count": null,
      "_view_module": "@jupyter-widgets/output",
      "_view_module_version": "1.0.0",
      "_view_name": "OutputView",
      "layout": "IPY_MODEL_513f3454458546a1a855009d9e52f225",
      "msg_id": "",
      "outputs": [
       {
        "data": {
         "text/html": "<pre style=\"white-space:pre;overflow-x:auto;line-height:normal;font-family:Menlo,'DejaVu Sans Mono',consolas,'Courier New',monospace\"><span style=\"color: #008000; text-decoration-color: #008000\">✅</span> <span style=\"color: #008000; text-decoration-color: #008000\">Materializing graph (0.00s)                 </span>\n   <span style=\"color: #7f7f7f; text-decoration-color: #7f7f7f\">↳ Sanitized input data                      </span>\n   <span style=\"color: #7f7f7f; text-decoration-color: #7f7f7f\">↳ Collected primary key from 1 table        </span>\n   <span style=\"color: #7f7f7f; text-decoration-color: #7f7f7f\">↳ Identified static graph without timestamps</span>\n   <span style=\"color: #7f7f7f; text-decoration-color: #7f7f7f\">↳ Created graph with 569 nodes and 0 edges  </span>\n</pre>\n",
         "text/plain": "\u001b[32m✅\u001b[0m \u001b[32mMaterializing graph (0.00s)                 \u001b[0m\n   \u001b[2m↳ Sanitized input data                      \u001b[0m\n   \u001b[2m↳ Collected primary key from 1 table        \u001b[0m\n   \u001b[2m↳ Identified static graph without timestamps\u001b[0m\n   \u001b[2m↳ Created graph with 569 nodes and 0 edges  \u001b[0m\n"
        },
        "metadata": {},
        "output_type": "display_data"
       }
      ]
     }
    },
    "b7bf1eafc9914c1da240bfdb2caedbc1": {
     "model_module": "@jupyter-widgets/base",
     "model_module_version": "1.2.0",
     "model_name": "LayoutModel",
     "state": {
      "_model_module": "@jupyter-widgets/base",
      "_model_module_version": "1.2.0",
      "_model_name": "LayoutModel",
      "_view_count": null,
      "_view_module": "@jupyter-widgets/base",
      "_view_module_version": "1.2.0",
      "_view_name": "LayoutView",
      "align_content": null,
      "align_items": null,
      "align_self": null,
      "border": null,
      "bottom": null,
      "display": null,
      "flex": null,
      "flex_flow": null,
      "grid_area": null,
      "grid_auto_columns": null,
      "grid_auto_flow": null,
      "grid_auto_rows": null,
      "grid_column": null,
      "grid_gap": null,
      "grid_row": null,
      "grid_template_areas": null,
      "grid_template_columns": null,
      "grid_template_rows": null,
      "height": null,
      "justify_content": null,
      "justify_items": null,
      "left": null,
      "margin": null,
      "max_height": null,
      "max_width": null,
      "min_height": null,
      "min_width": null,
      "object_fit": null,
      "object_position": null,
      "order": null,
      "overflow": null,
      "overflow_x": null,
      "overflow_y": null,
      "padding": null,
      "right": null,
      "top": null,
      "visibility": null,
      "width": null
     }
    },
    "faa2e6434ee4495a869aa3c268676665": {
     "model_module": "@jupyter-widgets/output",
     "model_module_version": "1.0.0",
     "model_name": "OutputModel",
     "state": {
      "_dom_classes": [],
      "_model_module": "@jupyter-widgets/output",
      "_model_module_version": "1.0.0",
      "_model_name": "OutputModel",
      "_view_count": null,
      "_view_module": "@jupyter-widgets/output",
      "_view_module_version": "1.0.0",
      "_view_name": "OutputView",
      "layout": "IPY_MODEL_b7bf1eafc9914c1da240bfdb2caedbc1",
      "msg_id": "",
      "outputs": [
       {
        "data": {
         "text/html": "<pre style=\"white-space:pre;overflow-x:auto;line-height:normal;font-family:Menlo,'DejaVu Sans Mono',consolas,'Courier New',monospace\"><span style=\"color: #008000; text-decoration-color: #008000\">✅</span> <span style=\"color: #008000; text-decoration-color: #008000; font-weight: bold\">PREDICT</span><span style=\"color: #008000; text-decoration-color: #008000\"> table.target=1 </span><span style=\"color: #008000; text-decoration-color: #008000; font-weight: bold\">FOR</span><span style=\"color: #008000; text-decoration-color: #008000\"> table.id </span><span style=\"color: #008000; text-decoration-color: #008000; font-weight: bold\">IN</span><span style=\"color: #008000; text-decoration-color: #008000\"> (0, 1, 2, 3, 4, ...) (0.65s)</span>\n   <span style=\"color: #7f7f7f; text-decoration-color: #7f7f7f\">↳ Identified static binary classification task                     </span>\n   <span style=\"color: #7f7f7f; text-decoration-color: #7f7f7f\">↳ Collected 284 in-context examples with 59.86% positive cases     </span>\n   <span style=\"color: #7f7f7f; text-decoration-color: #7f7f7f\">↳ Generated context of size 0.10MB                                 </span>\n</pre>\n",
         "text/plain": "\u001b[32m✅\u001b[0m \u001b[1;32mPREDICT\u001b[0m\u001b[32m table.target=1 \u001b[0m\u001b[1;32mFOR\u001b[0m\u001b[32m table.id \u001b[0m\u001b[1;32mIN\u001b[0m\u001b[32m (0, 1, 2, 3, 4, ...) (0.65s)\u001b[0m\n   \u001b[2m↳ Identified static binary classification task                     \u001b[0m\n   \u001b[2m↳ Collected 284 in-context examples with 59.86% positive cases     \u001b[0m\n   \u001b[2m↳ Generated context of size 0.10MB                                 \u001b[0m\n"
        },
        "metadata": {},
        "output_type": "display_data"
       }
      ]
     }
    }
   }
  }
 },
 "nbformat": 4,
 "nbformat_minor": 4
}
